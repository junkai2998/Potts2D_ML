{
 "cells": [
  {
   "cell_type": "markdown",
   "metadata": {},
   "source": [
    "# train without normalized data"
   ]
  },
  {
   "cell_type": "code",
   "execution_count": 1,
   "metadata": {},
   "outputs": [
    {
     "name": "stdout",
     "output_type": "stream",
     "text": [
      "tf.__version__= 2.2.0\n"
     ]
    }
   ],
   "source": [
    "import numpy as np\n",
    "import matplotlib.pyplot as plt\n",
    "import tensorflow as tf\n",
    "from tensorflow import keras\n",
    "import os\n",
    "print('tf.__version__=',tf.__version__)"
   ]
  },
  {
   "cell_type": "code",
   "execution_count": 2,
   "metadata": {},
   "outputs": [
    {
     "name": "stdout",
     "output_type": "stream",
     "text": [
      "dataset loaded with labels:  ['x_train', 'x_test', 'y_train', 'y_test']\n"
     ]
    }
   ],
   "source": [
    "cwd = '/home/junkai/potts/data20200918q_3/'\n",
    "fname = os.path.join(cwd,'train_dataset.npz')\n",
    "\n",
    "train_datasets = np.load(fname)\n",
    "print('dataset loaded with labels: ',train_datasets.files)\n",
    "x_train, x_test, y_train, y_test = [train_datasets[i] for i in train_datasets.files]"
   ]
  },
  {
   "cell_type": "code",
   "execution_count": 3,
   "metadata": {},
   "outputs": [],
   "source": [
    "class data_generator (keras.utils.Sequence):\n",
    "    '''\n",
    "    Data generator class from keras.ultils.Sequence.\n",
    "    Load data from a file that contains the filenames in the path.\n",
    "    usage:\n",
    "    path: Path to the directory containing the data files\n",
    "    fname_list: Dataset that containing filenames in the specified path\n",
    "    labels: Labels associated with the loaded train data\n",
    "    '''\n",
    "    def __init__(self,path,fname_list,labels,batch_size,):\n",
    "        self.path = path\n",
    "        self.fname_list = fname_list\n",
    "        self.labels = labels\n",
    "        self.batch_size = batch_size\n",
    "        print('generator for {} files of {} batches of size {}'.format(len(fname_list),self.__len__(),self.batch_size))\n",
    "\n",
    "    \n",
    "    def __len__(self):\n",
    "        return (np.ceil(len(self.fname_list) / float(self.batch_size))).astype(np.int)\n",
    "\n",
    "\n",
    "    def __getitem__ (self,idx):\n",
    "        batch_x = self.fname_list [idx * self.batch_size : (idx+1) * self.batch_size]\n",
    "        batch_y = self.labels [idx * self.batch_size : (idx+1) * self.batch_size]\n",
    "\n",
    "        return np.array([np.load(self.path+file) for file in batch_x]),batch_y"
   ]
  },
  {
   "cell_type": "code",
   "execution_count": 4,
   "metadata": {},
   "outputs": [
    {
     "name": "stdout",
     "output_type": "stream",
     "text": [
      "generator for 20500 files of 321 batches of size 64\n",
      "generator for 20500 files of 321 batches of size 64\n"
     ]
    }
   ],
   "source": [
    "train_dir = os.path.join(cwd,'train/')\n",
    "batch_size = 64\n",
    "\n",
    "train_generator = data_generator(train_dir,x_train,y_train,batch_size)\n",
    "validation_generator = data_generator(train_dir,x_test,y_test,batch_size)"
   ]
  },
  {
   "cell_type": "code",
   "execution_count": 5,
   "metadata": {},
   "outputs": [
    {
     "name": "stdout",
     "output_type": "stream",
     "text": [
      "Model: \"sequential\"\n",
      "_________________________________________________________________\n",
      "Layer (type)                 Output Shape              Param #   \n",
      "=================================================================\n",
      "flatten (Flatten)            (None, 1600)              0         \n",
      "_________________________________________________________________\n",
      "dense (Dense)                (None, 10)                16010     \n",
      "_________________________________________________________________\n",
      "dropout (Dropout)            (None, 10)                0         \n",
      "_________________________________________________________________\n",
      "dense_1 (Dense)              (None, 1)                 11        \n",
      "=================================================================\n",
      "Total params: 16,021\n",
      "Trainable params: 16,021\n",
      "Non-trainable params: 0\n",
      "_________________________________________________________________\n"
     ]
    }
   ],
   "source": [
    "input_shape = [i for i in train_generator[0]][0][0].shape\n",
    "\n",
    "model = keras.Sequential([\n",
    "    keras.layers.Flatten(input_shape=input_shape),\n",
    "    keras.layers.Dense(10, activation='sigmoid'),\n",
    "    keras.layers.Dropout(0.2),\n",
    "    keras.layers.Dense(1, activation='sigmoid')\n",
    "])\n",
    "model.summary(line_length=None, positions=None, print_fn=None)"
   ]
  },
  {
   "cell_type": "code",
   "execution_count": 6,
   "metadata": {},
   "outputs": [],
   "source": [
    "model.compile(optimizer='rmsprop',\n",
    "              loss=tf.keras.losses.BinaryCrossentropy(from_logits=True),\n",
    "              metrics=['accuracy'])"
   ]
  },
  {
   "cell_type": "code",
   "execution_count": 7,
   "metadata": {},
   "outputs": [
    {
     "name": "stdout",
     "output_type": "stream",
     "text": [
      "Epoch 1/20\n",
      "321/321 [==============================] - 14s 42ms/step - loss: 0.7155 - accuracy: 0.6135 - val_loss: 0.7342 - val_accuracy: 0.5162\n",
      "Epoch 2/20\n",
      "321/321 [==============================] - 13s 41ms/step - loss: 0.6977 - accuracy: 0.5847 - val_loss: 0.6965 - val_accuracy: 0.5117\n",
      "Epoch 3/20\n",
      "321/321 [==============================] - 13s 41ms/step - loss: 0.6847 - accuracy: 0.6045 - val_loss: 0.6769 - val_accuracy: 0.5119\n",
      "Epoch 4/20\n",
      "321/321 [==============================] - 13s 41ms/step - loss: 0.6737 - accuracy: 0.6356 - val_loss: 0.6599 - val_accuracy: 0.9545\n",
      "Epoch 5/20\n",
      "321/321 [==============================] - 13s 41ms/step - loss: 0.6679 - accuracy: 0.6481 - val_loss: 0.6367 - val_accuracy: 0.5621\n",
      "Epoch 6/20\n",
      "321/321 [==============================] - 13s 41ms/step - loss: 0.6624 - accuracy: 0.6664 - val_loss: 0.6540 - val_accuracy: 0.5118\n",
      "Epoch 7/20\n",
      "321/321 [==============================] - 13s 41ms/step - loss: 0.6563 - accuracy: 0.6855 - val_loss: 0.6227 - val_accuracy: 0.8383\n",
      "Epoch 8/20\n",
      "321/321 [==============================] - 13s 41ms/step - loss: 0.6480 - accuracy: 0.7117 - val_loss: 0.6427 - val_accuracy: 0.5120\n",
      "Epoch 9/20\n",
      "321/321 [==============================] - 13s 41ms/step - loss: 0.6438 - accuracy: 0.7132 - val_loss: 0.6608 - val_accuracy: 0.5117\n",
      "Epoch 10/20\n",
      "321/321 [==============================] - 13s 41ms/step - loss: 0.6379 - accuracy: 0.7271 - val_loss: 0.5812 - val_accuracy: 0.9888\n",
      "Epoch 11/20\n",
      "321/321 [==============================] - 13s 41ms/step - loss: 0.6320 - accuracy: 0.7455 - val_loss: 0.5908 - val_accuracy: 0.9900\n",
      "Epoch 12/20\n",
      "321/321 [==============================] - 13s 41ms/step - loss: 0.6254 - accuracy: 0.7631 - val_loss: 0.6223 - val_accuracy: 0.8661\n",
      "Epoch 13/20\n",
      "321/321 [==============================] - 13s 41ms/step - loss: 0.6253 - accuracy: 0.7608 - val_loss: 0.5650 - val_accuracy: 0.9960\n",
      "Epoch 14/20\n",
      "321/321 [==============================] - 13s 41ms/step - loss: 0.6168 - accuracy: 0.7840 - val_loss: 0.6162 - val_accuracy: 0.5220\n",
      "Epoch 15/20\n",
      "321/321 [==============================] - 13s 41ms/step - loss: 0.6126 - accuracy: 0.7900 - val_loss: 0.6479 - val_accuracy: 0.8183\n",
      "Epoch 16/20\n",
      "321/321 [==============================] - 13s 41ms/step - loss: 0.6065 - accuracy: 0.8072 - val_loss: 0.6263 - val_accuracy: 0.5130\n",
      "Epoch 17/20\n",
      "321/321 [==============================] - 13s 41ms/step - loss: 0.6029 - accuracy: 0.8119 - val_loss: 0.5675 - val_accuracy: 0.9707\n",
      "Epoch 18/20\n",
      "321/321 [==============================] - 13s 41ms/step - loss: 0.5981 - accuracy: 0.8221 - val_loss: 0.6480 - val_accuracy: 0.5117\n",
      "Epoch 19/20\n",
      "321/321 [==============================] - 13s 41ms/step - loss: 0.5940 - accuracy: 0.8349 - val_loss: 0.5559 - val_accuracy: 0.9789\n",
      "Epoch 20/20\n",
      "321/321 [==============================] - 13s 41ms/step - loss: 0.5940 - accuracy: 0.8366 - val_loss: 0.5346 - val_accuracy: 0.9961\n"
     ]
    }
   ],
   "source": [
    "history = model.fit(train_generator,\n",
    "                   steps_per_epoch = train_generator.__len__(),\n",
    "                   epochs = 20,\n",
    "                   verbose = 1,\n",
    "                   validation_data = validation_generator,\n",
    "                   validation_steps = validation_generator.__len__())"
   ]
  },
  {
   "cell_type": "code",
   "execution_count": 8,
   "metadata": {},
   "outputs": [
    {
     "data": {
      "image/png": "[encoded data removed]",
      "text/plain": [
       "<Figure size 432x288 with 1 Axes>"
      ]
     },
     "metadata": {
      "needs_background": "light"
     },
     "output_type": "display_data"
    },
    {
     "data": {
      "image/png": "[encoded data removed]",
      "text/plain": [
       "<Figure size 432x288 with 1 Axes>"
      ]
     },
     "metadata": {
      "needs_background": "light"
     },
     "output_type": "display_data"
    }
   ],
   "source": [
    "acc = history.history['accuracy']\n",
    "val_acc = history.history['val_accuracy']\n",
    "loss = history.history['loss']\n",
    "val_loss = history.history['val_loss']\n",
    "\n",
    "epochs = range(1,len(acc)+1)\n",
    "\n",
    "plt.plot(epochs,acc, 'bo',label='training acc')\n",
    "plt.plot(epochs,val_acc,'r',label='validation acc')\n",
    "plt.title('training and validation accuracy')\n",
    "plt.legend()\n",
    "\n",
    "plt.figure()\n",
    "plt.plot(epochs,loss, 'bo',label='training loss')\n",
    "plt.plot(epochs,val_loss,'r',label='validation loss')\n",
    "plt.title('training and validation loss')\n",
    "plt.legend()\n",
    "\n",
    "plt.show()"
   ]
  },
  {
   "cell_type": "code",
   "execution_count": 9,
   "metadata": {},
   "outputs": [],
   "source": [
    "fname = os.path.join(cwd,'modelq3.h5')\n",
    "model.save(fname)"
   ]
  },
  {
   "cell_type": "code",
   "execution_count": null,
   "metadata": {},
   "outputs": [],
   "source": []
  },
  {
   "cell_type": "markdown",
   "metadata": {},
   "source": [
    "# train with normalized data"
   ]
  },
  {
   "cell_type": "code",
   "execution_count": 1,
   "metadata": {},
   "outputs": [
    {
     "name": "stdout",
     "output_type": "stream",
     "text": [
      "tf.__version__= 2.2.0\n"
     ]
    }
   ],
   "source": [
    "import numpy as np\n",
    "import matplotlib.pyplot as plt\n",
    "import tensorflow as tf\n",
    "from tensorflow import keras\n",
    "import os\n",
    "print('tf.__version__=',tf.__version__)"
   ]
  },
  {
   "cell_type": "code",
   "execution_count": 2,
   "metadata": {},
   "outputs": [
    {
     "name": "stdout",
     "output_type": "stream",
     "text": [
      "dataset loaded with labels:  ['x_train', 'x_test', 'y_train', 'y_test']\n"
     ]
    }
   ],
   "source": [
    "cwd = '/home/junkai/potts/data20200918q_3/'\n",
    "fname = os.path.join(cwd,'train_dataset.npz')\n",
    "\n",
    "q = int(cwd.split('/')[-2][-1])\n",
    "train_datasets = np.load(fname)\n",
    "print('dataset loaded with labels: ',train_datasets.files)\n",
    "x_train, x_test, y_train, y_test = [train_datasets[i] for i in train_datasets.files]"
   ]
  },
  {
   "cell_type": "code",
   "execution_count": 3,
   "metadata": {},
   "outputs": [],
   "source": [
    "class data_generator (keras.utils.Sequence):\n",
    "    '''\n",
    "    Data generator class from keras.ultils.Sequence.\n",
    "    Load data from a file that contains the filenames in the path.\n",
    "    usage:\n",
    "    path: Path to the directory containing the data files\n",
    "    fname_list: Dataset that containing filenames in the specified path\n",
    "    labels: Labels associated with the loaded train data\n",
    "    '''\n",
    "    def __init__(self,path,fname_list,labels,batch_size,):\n",
    "        self.path = path\n",
    "        self.fname_list = fname_list\n",
    "        self.labels = labels\n",
    "        self.batch_size = batch_size\n",
    "        print('generator for {} files of {} batches of size {}'.format(len(fname_list),self.__len__(),self.batch_size))\n",
    "\n",
    "    \n",
    "    def __len__(self):\n",
    "        return (np.ceil(len(self.fname_list) / float(self.batch_size))).astype(np.int)\n",
    "\n",
    "\n",
    "    def __getitem__ (self,idx):\n",
    "        batch_x = self.fname_list [idx * self.batch_size : (idx+1) * self.batch_size]\n",
    "        batch_y = self.labels [idx * self.batch_size : (idx+1) * self.batch_size]\n",
    "\n",
    "        #x = np.array([np.load(self.path+file) for file in batch_x])\n",
    "        #return tf.keras.utils.normalize(x, axis=1),batch_y\n",
    "        return (np.array([np.load(self.path+file) for file in batch_x])-1)/(q-1),batch_y"
   ]
  },
  {
   "cell_type": "code",
   "execution_count": 4,
   "metadata": {},
   "outputs": [
    {
     "name": "stdout",
     "output_type": "stream",
     "text": [
      "generator for 20500 files of 321 batches of size 64\n",
      "generator for 20500 files of 321 batches of size 64\n"
     ]
    }
   ],
   "source": [
    "train_dir = os.path.join(cwd,'train/')\n",
    "batch_size = 64\n",
    "\n",
    "train_generator = data_generator(train_dir,x_train,y_train,batch_size)\n",
    "validation_generator = data_generator(train_dir,x_test,y_test,batch_size)"
   ]
  },
  {
   "cell_type": "code",
   "execution_count": 5,
   "metadata": {},
   "outputs": [
    {
     "name": "stdout",
     "output_type": "stream",
     "text": [
      "Model: \"sequential\"\n",
      "_________________________________________________________________\n",
      "Layer (type)                 Output Shape              Param #   \n",
      "=================================================================\n",
      "flatten (Flatten)            (None, 1600)              0         \n",
      "_________________________________________________________________\n",
      "dense (Dense)                (None, 10)                16010     \n",
      "_________________________________________________________________\n",
      "dropout (Dropout)            (None, 10)                0         \n",
      "_________________________________________________________________\n",
      "dense_1 (Dense)              (None, 1)                 11        \n",
      "=================================================================\n",
      "Total params: 16,021\n",
      "Trainable params: 16,021\n",
      "Non-trainable params: 0\n",
      "_________________________________________________________________\n"
     ]
    }
   ],
   "source": [
    "input_shape = [i for i in train_generator[0]][0][0].shape\n",
    "\n",
    "model = keras.Sequential([\n",
    "    keras.layers.Flatten(input_shape=input_shape),\n",
    "    keras.layers.Dense(10, activation='sigmoid'),\n",
    "    keras.layers.Dropout(0.2),\n",
    "    keras.layers.Dense(1, activation='sigmoid')\n",
    "])\n",
    "model.summary(line_length=None, positions=None, print_fn=None)"
   ]
  },
  {
   "cell_type": "code",
   "execution_count": 6,
   "metadata": {},
   "outputs": [],
   "source": [
    "model.compile(optimizer='adam',\n",
    "              loss=tf.keras.losses.BinaryCrossentropy(from_logits=True),\n",
    "              metrics=['accuracy'])"
   ]
  },
  {
   "cell_type": "code",
   "execution_count": 7,
   "metadata": {},
   "outputs": [
    {
     "name": "stdout",
     "output_type": "stream",
     "text": [
      "Epoch 1/20\n",
      "321/321 [==============================] - 13s 42ms/step - loss: 0.5992 - accuracy: 0.9714 - val_loss: 0.5638 - val_accuracy: 0.9988\n",
      "Epoch 2/20\n",
      "321/321 [==============================] - 13s 41ms/step - loss: 0.5546 - accuracy: 0.9948 - val_loss: 0.5342 - val_accuracy: 0.9997\n",
      "Epoch 3/20\n",
      "321/321 [==============================] - 13s 41ms/step - loss: 0.5347 - accuracy: 0.9973 - val_loss: 0.5218 - val_accuracy: 0.9998\n",
      "Epoch 4/20\n",
      "321/321 [==============================] - 13s 41ms/step - loss: 0.5248 - accuracy: 0.9992 - val_loss: 0.5160 - val_accuracy: 1.0000\n",
      "Epoch 5/20\n",
      "321/321 [==============================] - 13s 41ms/step - loss: 0.5197 - accuracy: 0.9993 - val_loss: 0.5130 - val_accuracy: 0.9999\n",
      "Epoch 6/20\n",
      "321/321 [==============================] - 13s 41ms/step - loss: 0.5166 - accuracy: 0.9996 - val_loss: 0.5113 - val_accuracy: 0.9999\n",
      "Epoch 7/20\n",
      "321/321 [==============================] - 13s 41ms/step - loss: 0.5144 - accuracy: 0.9996 - val_loss: 0.5102 - val_accuracy: 0.9999\n",
      "Epoch 8/20\n",
      "321/321 [==============================] - 13s 42ms/step - loss: 0.5130 - accuracy: 0.9997 - val_loss: 0.5095 - val_accuracy: 1.0000\n",
      "Epoch 9/20\n",
      "321/321 [==============================] - 13s 42ms/step - loss: 0.5122 - accuracy: 0.9999 - val_loss: 0.5091 - val_accuracy: 0.9999\n",
      "Epoch 10/20\n",
      "321/321 [==============================] - 13s 41ms/step - loss: 0.5115 - accuracy: 0.9997 - val_loss: 0.5087 - val_accuracy: 1.0000\n",
      "Epoch 11/20\n",
      "321/321 [==============================] - 13s 41ms/step - loss: 0.5109 - accuracy: 0.9997 - val_loss: 0.5085 - val_accuracy: 0.9999\n",
      "Epoch 12/20\n",
      "321/321 [==============================] - 13s 41ms/step - loss: 0.5104 - accuracy: 0.9997 - val_loss: 0.5083 - val_accuracy: 0.9999\n",
      "Epoch 13/20\n",
      "321/321 [==============================] - 13s 41ms/step - loss: 0.5100 - accuracy: 0.9997 - val_loss: 0.5082 - val_accuracy: 0.9998\n",
      "Epoch 14/20\n",
      "321/321 [==============================] - 13s 41ms/step - loss: 0.5098 - accuracy: 0.9996 - val_loss: 0.5081 - val_accuracy: 0.9998\n",
      "Epoch 15/20\n",
      "321/321 [==============================] - 13s 41ms/step - loss: 0.5096 - accuracy: 0.9998 - val_loss: 0.5081 - val_accuracy: 0.9998\n",
      "Epoch 16/20\n",
      "321/321 [==============================] - 13s 41ms/step - loss: 0.5094 - accuracy: 0.9999 - val_loss: 0.5080 - val_accuracy: 0.9999\n",
      "Epoch 17/20\n",
      "321/321 [==============================] - 13s 41ms/step - loss: 0.5092 - accuracy: 1.0000 - val_loss: 0.5080 - val_accuracy: 0.9998\n",
      "Epoch 18/20\n",
      "321/321 [==============================] - 13s 41ms/step - loss: 0.5090 - accuracy: 0.9999 - val_loss: 0.5079 - val_accuracy: 0.9999\n",
      "Epoch 19/20\n",
      "321/321 [==============================] - 13s 41ms/step - loss: 0.5090 - accuracy: 0.9998 - val_loss: 0.5079 - val_accuracy: 0.9999\n",
      "Epoch 20/20\n",
      "321/321 [==============================] - 13s 41ms/step - loss: 0.5088 - accuracy: 0.9998 - val_loss: 0.5079 - val_accuracy: 0.9998\n"
     ]
    }
   ],
   "source": [
    "history = model.fit(train_generator,\n",
    "                   steps_per_epoch = train_generator.__len__(),\n",
    "                   epochs = 20,\n",
    "                   verbose = 1,\n",
    "                   validation_data = validation_generator,\n",
    "                   validation_steps = validation_generator.__len__())"
   ]
  },
  {
   "cell_type": "code",
   "execution_count": 9,
   "metadata": {},
   "outputs": [
    {
     "data": {
      "image/png": "[encoded data removed]",
      "text/plain": [
       "<Figure size 432x288 with 1 Axes>"
      ]
     },
     "metadata": {
      "needs_background": "light"
     },
     "output_type": "display_data"
    },
    {
     "data": {
      "image/png": "[encoded data removed]",
      "text/plain": [
       "<Figure size 432x288 with 1 Axes>"
      ]
     },
     "metadata": {
      "needs_background": "light"
     },
     "output_type": "display_data"
    }
   ],
   "source": [
    "acc = history.history['accuracy']\n",
    "val_acc = history.history['val_accuracy']\n",
    "loss = history.history['loss']\n",
    "val_loss = history.history['val_loss']\n",
    "\n",
    "epochs = range(1,len(acc)+1)\n",
    "\n",
    "plt.plot(epochs,acc, 'bo',label='training acc')\n",
    "plt.plot(epochs,val_acc,'r',label='validation acc')\n",
    "plt.title('training and validation accuracy')\n",
    "plt.legend()\n",
    "\n",
    "plt.figure()\n",
    "plt.plot(epochs,loss, 'bo',label='training loss')\n",
    "plt.plot(epochs,val_loss,'r',label='validation loss')\n",
    "plt.title('training and validation loss')\n",
    "plt.legend()\n",
    "\n",
    "plt.show()"
   ]
  },
  {
   "cell_type": "code",
   "execution_count": 10,
   "metadata": {},
   "outputs": [],
   "source": [
    "fname = os.path.join(cwd,'model2q{}.h5'.format(q))\n",
    "model.save(fname)"
   ]
  },
  {
   "cell_type": "code",
   "execution_count": null,
   "metadata": {},
   "outputs": [],
   "source": []
  }
 ],
 "metadata": {
  "kernelspec": {
   "display_name": "Python 3",
   "language": "python",
   "name": "python3"
  },
  "language_info": {
   "codemirror_mode": {
    "name": "ipython",
    "version": 3
   },
   "file_extension": ".py",
   "mimetype": "text/x-python",
   "name": "python",
   "nbconvert_exporter": "python",
   "pygments_lexer": "ipython3",
   "version": "3.7.6"
  }
 },
 "nbformat": 4,
 "nbformat_minor": 4
}
