{
 "cells": [
  {
   "cell_type": "code",
   "execution_count": 1,
   "metadata": {},
   "outputs": [],
   "source": [
    "import os\n",
    "import numpy as np\n",
    "import matplotlib.pyplot as plt"
   ]
  },
  {
   "cell_type": "code",
   "execution_count": 2,
   "metadata": {},
   "outputs": [],
   "source": [
    "cwd = '/home/junkai/potts/data20200918q_6/'\n",
    "test_dir = os.path.join(cwd,'test/')\n",
    "\n",
    "fname = os.path.join(cwd,'test_dataset.npz')\n",
    "file_list = np.load(fname)['x_test']"
   ]
  },
  {
   "cell_type": "code",
   "execution_count": 3,
   "metadata": {},
   "outputs": [
    {
     "data": {
      "image/png": "[encoded data removed]",
      "text/plain": [
       "<Figure size 432x288 with 1 Axes>"
      ]
     },
     "metadata": {
      "needs_background": "light"
     },
     "output_type": "display_data"
    },
    {
     "name": "stdout",
     "output_type": "stream",
     "text": [
      "file :  0.95i963.npy\n"
     ]
    }
   ],
   "source": [
    "from IPython import display\n",
    "start = 15000\n",
    "stop = 20000\n",
    "step = 40\n",
    "\n",
    "for file in file_list[start:stop:step]:\n",
    "    display.clear_output(wait=True)\n",
    "    fname = os.path.join(test_dir,file)\n",
    "    spin_config = np.load(fname)\n",
    "    plt.imshow(spin_config,cmap=plt.cm.binary)\n",
    "    #plt.colorbar()\n",
    "    plt.show()\n",
    "    print('file : ',file)"
   ]
  },
  {
   "cell_type": "code",
   "execution_count": null,
   "metadata": {},
   "outputs": [],
   "source": []
  }
 ],
 "metadata": {
  "kernelspec": {
   "display_name": "Python 3",
   "language": "python",
   "name": "python3"
  },
  "language_info": {
   "codemirror_mode": {
    "name": "ipython",
    "version": 3
   },
   "file_extension": ".py",
   "mimetype": "text/x-python",
   "name": "python",
   "nbconvert_exporter": "python",
   "pygments_lexer": "ipython3",
   "version": "3.7.6"
  }
 },
 "nbformat": 4,
 "nbformat_minor": 4
}
